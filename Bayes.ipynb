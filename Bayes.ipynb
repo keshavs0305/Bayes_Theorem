{
 "cells": [
  {
   "cell_type": "code",
   "execution_count": null,
   "metadata": {},
   "outputs": [],
   "source": [
    "import numpy as np\n",
    "import pickle\n",
    "\n",
    "dish = []\n",
    "ingredients = []\n",
    "recipe_data = pickle.load(open(\"recipe1m_small.pkl\",'rb'))\n",
    "for i in range(len(recipe_data)):\n",
    "    data = recipe_data[i]\n",
    "    dish.append(data[\"title\"])\n",
    "    ingredients.append(data[\"ingredients\"])\n",
    "dish = np.asarray(dish,dtype=object)\n",
    "ingredients = np.asarray(ingredients,dtype=object)\n",
    "\n",
    "all_ingredients = []\n",
    "for ingredients_ in ingredients:\n",
    "    for ingredient_ in ingredients_:\n",
    "        if ingredient_ not in all_ingredients:\n",
    "            all_ingredients.append(ingredient_)\n",
    "\n",
    "all_dishes = []\n",
    "for dishes_ in dish:\n",
    "    for dish_ in dishes_:\n",
    "        if dish_ not in all_dishes:\n",
    "            all_dishes.append(dish_)\n",
    "\n",
    "def count(ingredient_,dish_):\n",
    "    count_ingredient = 0\n",
    "    count_inggredient_and_dish = 0\n",
    "    for i in range(len(ingredients)):\n",
    "        if ingredient_ in ingredients[i]:\n",
    "            count_ingredient += 1\n",
    "            if dish_ in dish[i]:\n",
    "                count_inggredient_and_dish += 1\n",
    "    return count_inggredient_and_dish/count_ingredient\n",
    "\n",
    "CPT = {}\n",
    "for ingredient_ in all_ingredients:\n",
    "    CPT[ingredient_] = {}\n",
    "    for dish_ in all_dishes:\n",
    "        CPT[ingredient_][dish_] = count(ingredient_,dish_)\n",
    "\n",
    "# CPT is the dictionary of CPTs"
   ]
  },
  {
   "cell_type": "code",
   "execution_count": null,
   "metadata": {},
   "outputs": [],
   "source": []
  }
 ],
 "metadata": {
  "kernelspec": {
   "display_name": "Python 3",
   "language": "python",
   "name": "python3"
  },
  "language_info": {
   "codemirror_mode": {
    "name": "ipython",
    "version": 3
   },
   "file_extension": ".py",
   "mimetype": "text/x-python",
   "name": "python",
   "nbconvert_exporter": "python",
   "pygments_lexer": "ipython3",
   "version": "3.8.8"
  }
 },
 "nbformat": 4,
 "nbformat_minor": 4
}
