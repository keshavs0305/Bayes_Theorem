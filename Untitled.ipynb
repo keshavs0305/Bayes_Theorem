{
 "cells": [
  {
   "cell_type": "code",
   "execution_count": 17,
   "metadata": {},
   "outputs": [
    {
     "name": "stdout",
     "output_type": "stream",
     "text": [
      "3 most likely ingredients are:\n",
      "\n",
      "1 aceto_balsamico\n",
      "2 adobo sauce\n",
      "3 agar\n"
     ]
    }
   ],
   "source": [
    "import pickle\n",
    "from itertools import chain\n",
    "import numpy as np\n",
    "\n",
    "\n",
    "\n",
    "input_data = open(\"sample_input.json\").read()\n",
    "input_data = input_data.split('\\n')\n",
    "\n",
    "d = input_data[0]\n",
    "given_ingredients = input_data[1:]\n",
    "\n",
    "recipe_data = pickle.load(open(\"recipe1m_small.pkl\",'rb'))\n",
    "\n",
    "\n",
    "R = []\n",
    "ingredients = []\n",
    "for recipe in recipe_data:\n",
    "    if d in recipe['title']:\n",
    "        R.append(recipe)\n",
    "        ingredients.append(recipe[\"ingredients\"])\n",
    "all_ingredients1 = np.unique(np.array(list(chain.from_iterable(ingredients))))\n",
    "\n",
    "all_ingredients = []\n",
    "for i in all_ingredients1:\n",
    "    if i in given_ingredients:\n",
    "        pass\n",
    "    else:\n",
    "        all_ingredients.append(i)\n",
    "\n",
    "\n",
    "def P_of_xt(xt):\n",
    "    count = 0\n",
    "    for recipe in R:\n",
    "        result = set(x in recipe['ingredients'] for x in xt)\n",
    "        flag = 0\n",
    "        for ans in result:\n",
    "            if ans == False:\n",
    "                flag=1\n",
    "        if flag == 0:\n",
    "            count += 1\n",
    "    return count\n",
    "\n",
    "\n",
    "most_likely_ingredient = {}\n",
    "\n",
    "for t in all_ingredients:\n",
    "    x = given_ingredients + [t]\n",
    "    ingredient_output = P_of_xt(x)/len(R)\n",
    "    most_likely_ingredient[t] = ingredient_output\n",
    "\n",
    "most_likely_ingredient = sorted(most_likely_ingredient.items(), key=lambda x: x[1], reverse=True)\n",
    "\n",
    "\n",
    "print(\"3 most likely ingredients are:\")\n",
    "print()\n",
    "\n",
    "count = 1\n",
    "for ingredient in most_likely_ingredient:\n",
    "    print(count,ingredient[0])\n",
    "    count += 1\n",
    "    if count > 3:\n",
    "        break"
   ]
  },
  {
   "cell_type": "code",
   "execution_count": null,
   "metadata": {},
   "outputs": [],
   "source": []
  }
 ],
 "metadata": {
  "kernelspec": {
   "display_name": "Python 3",
   "language": "python",
   "name": "python3"
  },
  "language_info": {
   "codemirror_mode": {
    "name": "ipython",
    "version": 3
   },
   "file_extension": ".py",
   "mimetype": "text/x-python",
   "name": "python",
   "nbconvert_exporter": "python",
   "pygments_lexer": "ipython3",
   "version": "3.7.0"
  }
 },
 "nbformat": 4,
 "nbformat_minor": 2
}
